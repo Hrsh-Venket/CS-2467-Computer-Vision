{
 "cells": [
  {
   "cell_type": "code",
   "execution_count": 2,
   "metadata": {},
   "outputs": [],
   "source": [
    "import cv2\n",
    "import numpy as np\n",
    "import matplotlib.pyplot as plt"
   ]
  },
  {
   "cell_type": "code",
   "execution_count": 7,
   "metadata": {},
   "outputs": [],
   "source": [
    "img = cv2.imread('floor.jpg')\n",
    "\n",
    "cv2.imshow('image',img)\n",
    "cv2.waitKey(0)\n",
    "cv2.destroyAllWindows()"
   ]
  },
  {
   "cell_type": "code",
   "execution_count": 9,
   "metadata": {},
   "outputs": [],
   "source": [
    "import cv2\n",
    "import numpy as np\n",
    "\n",
    "# List to store start and end points\n",
    "points = []\n",
    "\n",
    "# Mouse callback function\n",
    "def draw_line(event,x,y,flags,param):\n",
    "    if event == cv2.EVENT_LBUTTONDBLCLK:\n",
    "        points.append((x, y))\n",
    "        if len(points) == 2:\n",
    "            cv2.line(img, points[0], points[1], (255,0,0), 5)\n",
    "            points.clear()\n",
    "\n",
    "# Create a black image, a window and bind the function to window\n",
    "img = cv2.imread('floor.jpg')\n",
    "cv2.namedWindow('image')\n",
    "cv2.setMouseCallback('image',draw_line)\n",
    "\n",
    "while(1):\n",
    "    cv2.imshow('image',img)\n",
    "    if cv2.waitKey(20) & 0xFF == 27:\n",
    "        break\n",
    "cv2.destroyAllWindows()\n"
   ]
  },
  {
   "cell_type": "code",
   "execution_count": 14,
   "metadata": {},
   "outputs": [
    {
     "data": {
      "text/plain": [
       "[((38, 69), (408, 253)),\n",
       " ((410, 253), (611, 129)),\n",
       " ((610, 127), (217, 1)),\n",
       " ((0, 252), (595, 5))]"
      ]
     },
     "execution_count": 14,
     "metadata": {},
     "output_type": "execute_result"
    }
   ],
   "source": [
    "import cv2\n",
    "import numpy as np\n",
    "\n",
    "# List to store start and end points\n",
    "points = []\n",
    "# List to store lines\n",
    "lines = []\n",
    "\n",
    "# Mouse callback function\n",
    "def draw_line(event,x,y,flags,param):\n",
    "    if event == cv2.EVENT_LBUTTONDBLCLK:\n",
    "        points.append((x, y))\n",
    "        if len(points) == 2:\n",
    "            cv2.line(img, points[0], points[1], (255,0,0), 5)\n",
    "            lines.append((points[0], points[1]))\n",
    "            points.clear()\n",
    "\n",
    "# Create a black image, a window and bind the function to window\n",
    "img = cv2.imread('floor.jpg')\n",
    "cv2.namedWindow('image')\n",
    "cv2.setMouseCallback('image',draw_line)\n",
    "\n",
    "while(1):\n",
    "    cv2.imshow('image',img)\n",
    "    k = cv2.waitKey(20) & 0xFF\n",
    "    if k == 27:\n",
    "        break\n",
    "\n",
    "cv2.destroyAllWindows()\n",
    "\n",
    "lines\n"
   ]
  },
  {
   "cell_type": "code",
   "execution_count": 17,
   "metadata": {},
   "outputs": [
    {
     "data": {
      "text/plain": [
       "array([[[ 38,  69],\n",
       "        [408, 253]],\n",
       "\n",
       "       [[410, 253],\n",
       "        [611, 129]],\n",
       "\n",
       "       [[610, 127],\n",
       "        [217,   1]],\n",
       "\n",
       "       [[  0, 252],\n",
       "        [595,   5]]])"
      ]
     },
     "execution_count": 17,
     "metadata": {},
     "output_type": "execute_result"
    }
   ],
   "source": [
    "lines = np.array(lines)\n",
    "lines"
   ]
  }
 ],
 "metadata": {
  "kernelspec": {
   "display_name": "computer-vision",
   "language": "python",
   "name": "python3"
  },
  "language_info": {
   "codemirror_mode": {
    "name": "ipython",
    "version": 3
   },
   "file_extension": ".py",
   "mimetype": "text/x-python",
   "name": "python",
   "nbconvert_exporter": "python",
   "pygments_lexer": "ipython3",
   "version": "3.11.4"
  },
  "orig_nbformat": 4
 },
 "nbformat": 4,
 "nbformat_minor": 2
}
