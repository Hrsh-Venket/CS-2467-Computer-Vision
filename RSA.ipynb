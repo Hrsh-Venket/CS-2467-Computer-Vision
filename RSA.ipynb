{
 "cells": [
  {
   "cell_type": "code",
   "execution_count": 26,
   "metadata": {},
   "outputs": [
    {
     "name": "stdout",
     "output_type": "stream",
     "text": [
      "Public Key : (539781, 552901)\n",
      "Private Key : (355189, 552901)\n",
      "Encrypted Message : 403780400624182623182623447680\n",
      "Decrypted Message : Hello\n"
     ]
    }
   ],
   "source": [
    "import random\n",
    "from sympy import isprime, mod_inverse\n",
    "\n",
    "def generate_prime_number(n):\n",
    "    while True:\n",
    "        prime_number = random.randint(2**(n-1), 2**n)\n",
    "        if isprime(prime_number):\n",
    "            return prime_number\n",
    "\n",
    "def gcd(a, b):\n",
    "    while b != 0:\n",
    "        a, b = b, a % b\n",
    "    return a\n",
    "\n",
    "def generate_keypair():\n",
    "    p = generate_prime_number(10)\n",
    "    q = generate_prime_number(10)\n",
    "    while p == q:\n",
    "        q = generate_prime_number(5)\n",
    "    if not (isprime(p) and isprime(q)):\n",
    "        raise ValueError('Both numbers must be prime.')\n",
    "    n = p * q\n",
    "    phi = (p-1) * (q-1)\n",
    "    e = random.randint(1, phi)\n",
    "    g = gcd(e, phi)\n",
    "    while g != 1:\n",
    "        e = random.randint(1, phi)\n",
    "        g = gcd(e, phi)\n",
    "    d = mod_inverse(e, phi)\n",
    "    return ((e, n), (d, n))\n",
    "\n",
    "def encrypt(pk, plaintext):\n",
    "    key, n = pk\n",
    "    cipher = [(ord(char) ** key) % n for char in plaintext]\n",
    "    return cipher\n",
    "\n",
    "def decrypt(pk, ciphertext):\n",
    "    key, n = pk\n",
    "    plain = [chr((char ** key) % n) for char in ciphertext]\n",
    "    return ''.join(plain)\n",
    "    \n",
    "public, private = generate_keypair()\n",
    "print(\"Public Key :\", public)\n",
    "print(\"Private Key :\", private)\n",
    "message = \"Hello\"\n",
    "encrypted_msg = encrypt(public, message)\n",
    "print(\"Encrypted Message :\", ''.join(map(lambda x: str(x), encrypted_msg)))\n",
    "print(\"Decrypted Message :\", decrypt(private, encrypted_msg))\n"
   ]
  }
 ],
 "metadata": {
  "kernelspec": {
   "display_name": "cv",
   "language": "python",
   "name": "python3"
  },
  "language_info": {
   "codemirror_mode": {
    "name": "ipython",
    "version": 3
   },
   "file_extension": ".py",
   "mimetype": "text/x-python",
   "name": "python",
   "nbconvert_exporter": "python",
   "pygments_lexer": "ipython3",
   "version": "3.8.18"
  }
 },
 "nbformat": 4,
 "nbformat_minor": 2
}
